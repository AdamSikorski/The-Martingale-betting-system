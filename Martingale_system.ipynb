{
  "nbformat": 4,
  "nbformat_minor": 0,
  "metadata": {
    "colab": {
      "name": "Martingale_system.ipynb",
      "provenance": [],
      "collapsed_sections": [],
      "authorship_tag": "ABX9TyPwW2Z4HiBIEaCtvAt4Ehgp",
      "include_colab_link": true
    },
    "kernelspec": {
      "name": "python3",
      "display_name": "Python 3"
    }
  },
  "cells": [
    {
      "cell_type": "markdown",
      "metadata": {
        "id": "view-in-github",
        "colab_type": "text"
      },
      "source": [
        "<a href=\"https://colab.research.google.com/github/Seeethy/The-Martingale-betting-system/blob/main/Martingale_system.ipynb\" target=\"_parent\"><img src=\"https://colab.research.google.com/assets/colab-badge.svg\" alt=\"Open In Colab\"/></a>"
      ]
    },
    {
      "cell_type": "markdown",
      "metadata": {
        "id": "Rw1P_211KnOA"
      },
      "source": [
        "A martingale betting strategy was found in 18-century. Its still very popular nowadays among people who make bets. This strategy was at first design for a simple \"toss a coin\" game. If a flipped coin came up as heads - player wins, if it comes tails - player loses. \r\n",
        "\r\n",
        "This strategy has got 3 key ideas:\r\n",
        "\r\n",
        "  1) Player starts with a certain bet\r\n",
        " \r\n",
        "  2) Player is multiplying next bet by 2 after every loss.\r\n",
        "\r\n",
        "  3) If a player wins he resets the value of the bet.\r\n",
        "\r\n",
        "   "
      ]
    },
    {
      "cell_type": "code",
      "metadata": {
        "id": "_0UjZsii_gZf"
      },
      "source": [
        "import random\r\n",
        "import matplotlib.pyplot as plt\r\n",
        "import math as m\r\n",
        "from matplotlib.ticker import FormatStrFormatter\r\n",
        "import matplotlib.ticker\r\n",
        "import numpy as np\r\n",
        "\r\n",
        "def game():\r\n",
        "  coin = ['heads', 'tails']\r\n",
        "  result = random.choice(coin)\r\n",
        "  if result == 'heads':\r\n",
        "    game_status = 'win'\r\n",
        "  if result == 'tails':\r\n",
        "    game_status = 'loss'\r\n",
        "  return game_status\r\n",
        "\r\n",
        "deposit = 1000\r\n",
        "starting_deposit = deposit\r\n",
        "bet = 1\r\n",
        "bet_list = []\r\n",
        "deposit_list = []\r\n",
        "game_counter = 0\r\n",
        "game_counter_list = []\r\n",
        "bet_list.append(bet)\r\n",
        "deposit_list.append(deposit)\r\n",
        "game_counter_list.append(game_counter)\r\n",
        "\r\n",
        "\r\n",
        "while game_counter <= 1000000:\r\n",
        "  print(deposit - bet)\r\n",
        "  deposit = deposit - bet \r\n",
        "  game_output = game()\r\n",
        "\r\n",
        "  if game_output == 'win':\r\n",
        "    #print('win')\r\n",
        "    deposit += bet*2\r\n",
        "    bet = 2\r\n",
        "    print(\"deposit after win\",deposit)\r\n",
        "\r\n",
        "  if game_output == 'loss':\r\n",
        "    #print('loss')\r\n",
        "    print(\"deposit after loss\",deposit)\r\n",
        "    bet = bet * 2\r\n",
        "    #if bet > 1000:\r\n",
        "     #bet = 1000\r\n",
        "  \r\n",
        "  bet_list.append(bet)\r\n",
        "  deposit_list.append(deposit)\r\n",
        "  game_counter +=1\r\n",
        "  game_counter_list.append(game_counter)\r\n",
        "  if deposit <=0:\r\n",
        "    break\r\n",
        "\r\n",
        "  #print(deposit)\r\n",
        "\r\n",
        "plt.plot(game_counter_list, deposit_list)\r\n",
        "plt.show()\r\n",
        "print(\"deposit: \",deposit_list[-1::-5])\r\n",
        "print(\"bet: \", bet_list[-1::-5])"
      ],
      "execution_count": null,
      "outputs": []
    },
    {
      "cell_type": "markdown",
      "metadata": {
        "id": "QjmecLs0Nc9v"
      },
      "source": [
        "Exponential growth "
      ]
    },
    {
      "cell_type": "code",
      "metadata": {
        "colab": {
          "base_uri": "https://localhost:8080/",
          "height": 279
        },
        "id": "dT_3SCpoDXOz",
        "outputId": "c11bfb5b-d065-40c2-e136-5c9572b82e5b"
      },
      "source": [
        "y_pyplot = []\r\n",
        "for n in range(0,15,1):\r\n",
        "  y_pyplot.append(2**n)\r\n",
        "\r\n",
        "x_pyplot = np.arange(1,16)\r\n",
        "fig, ax = plt.subplots()\r\n",
        "ax.yaxis.set_ticks(np.arange(0, 1000000,2500))\r\n",
        "\r\n",
        "plt.plot(x_pyplot,y_pyplot)\r\n",
        "plt.xlabel(\"number of lost games\")\r\n",
        "plt.ylabel(\"current bet value\")\r\n",
        "plt.show()"
      ],
      "execution_count": 643,
      "outputs": [
        {
          "output_type": "display_data",
          "data": {
            "image/png": "[encoded data removed]",
            "text/plain": [
              "<Figure size 432x288 with 1 Axes>"
            ]
          },
          "metadata": {
            "tags": [],
            "needs_background": "light"
          }
        }
      ]
    }
  ]
}