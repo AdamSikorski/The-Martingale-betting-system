{
  "nbformat": 4,
  "nbformat_minor": 0,
  "metadata": {
    "colab": {
      "name": "Martingale_system.ipynb",
      "provenance": [],
      "collapsed_sections": [],
      "authorship_tag": "ABX9TyO0zwMhTblGwVITFcdlHy0t",
      "include_colab_link": true
    },
    "kernelspec": {
      "name": "python3",
      "display_name": "Python 3"
    }
  },
  "cells": [
    {
      "cell_type": "markdown",
      "metadata": {
        "id": "view-in-github",
        "colab_type": "text"
      },
      "source": [
        "<a href=\"https://colab.research.google.com/github/Seeethy/The-Martingale-betting-system/blob/main/Martingale_system.ipynb\" target=\"_parent\"><img src=\"https://colab.research.google.com/assets/colab-badge.svg\" alt=\"Open In Colab\"/></a>"
      ]
    },
    {
      "cell_type": "markdown",
      "metadata": {
        "id": "sSO5NFXxO0iX"
      },
      "source": [
        "![image.png](data:image/png;base64,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)"
      ]
    },
    {
      "cell_type": "markdown",
      "metadata": {
        "id": "Rw1P_211KnOA"
      },
      "source": [
        "**A martingale betting strategy** was found in 18-century. Its still very popular nowadays among people who make bets. This strategy was at first designed for a simple \"toss a coin\" game. If a flipped coin came up as heads - player wins, if it comes as tails - player losses. \r\n",
        "\r\n",
        "**This strategy has got 3 key ideas:**\r\n",
        "\r\n",
        "  1) Player starts with a certain bet\r\n",
        " \r\n",
        "  2) Player is multiplying next bet by 2 after every loss.\r\n",
        "\r\n",
        "  3) If a player wins he resets the value of the next bet.\r\n",
        "\r\n",
        "Lets check that strategy in practise by making an experiment. A player will start playing with 100 dolars by betting 1 dolar per game. In reality, if a player plays for example a roulette - he has less winning chance than 50% (48.60% - european roulette, 47.4% - american roulette). Cassinos also usually restrict how many games you can play at a certain table and the maximal bet which you can make. For this experiment we will ignore this and make a simulation of a a random game which seems to be ideal for a player. Lets see what happens..."
      ]
    },
    {
      "cell_type": "code",
      "metadata": {
        "id": "_0UjZsii_gZf"
      },
      "source": [
        "import random\r\n",
        "import matplotlib.pyplot as plt\r\n",
        "import math as m\r\n",
        "from matplotlib.ticker import FormatStrFormatter\r\n",
        "import matplotlib.ticker\r\n",
        "import numpy as np\r\n",
        "\r\n",
        "def game():\r\n",
        "  coin = ['heads', 'tails']\r\n",
        "  result = random.choice(coin)\r\n",
        "  if result == 'heads':\r\n",
        "    game_status = 'win'\r\n",
        "  if result == 'tails':\r\n",
        "    game_status = 'loss'\r\n",
        "  return game_status\r\n",
        "\r\n",
        "deposit = 100\r\n",
        "starting_deposit = deposit\r\n",
        "bet = 1\r\n",
        "bet_list = []\r\n",
        "deposit_list = []\r\n",
        "game_counter = 0\r\n",
        "game_counter_list = []\r\n",
        "bet_list.append(bet)\r\n",
        "deposit_list.append(deposit)\r\n",
        "game_counter_list.append(game_counter)\r\n",
        "\r\n",
        "\r\n",
        "while game_counter <= 1000000:\r\n",
        "  #print(deposit - bet)\r\n",
        "  deposit = deposit - bet \r\n",
        "  game_output = game()\r\n",
        "\r\n",
        "  if game_output == 'win':\r\n",
        "    #print('win')\r\n",
        "    deposit += bet*2\r\n",
        "    bet = 2\r\n",
        "    #print(\"deposit after win\",deposit)\r\n",
        "\r\n",
        "  if game_output == 'loss':\r\n",
        "    #print('loss')\r\n",
        "    #print(\"deposit after loss\",deposit)\r\n",
        "    bet = bet * 2\r\n",
        "    #if bet > 1000:\r\n",
        "     #bet = 1000\r\n",
        "  \r\n",
        "  bet_list.append(bet)\r\n",
        "  deposit_list.append(deposit)\r\n",
        "  game_counter +=1\r\n",
        "  game_counter_list.append(game_counter)\r\n",
        "  if deposit <=0:\r\n",
        "    break"
      ],
      "execution_count": 801,
      "outputs": []
    },
    {
      "cell_type": "markdown",
      "metadata": {
        "id": "fCzOVgABaQL5"
      },
      "source": [
        "![image.png](data:image/png;base64,iVBORw0KGgoAAAANSUhEUgAAAGQAAAAiCAYAAACp43wlAAAFj0lEQVRoBe1ZQSg+QRT/kiRJkoPkIEmSJEkOkuQgSZIkSZIkJ0kOkiQ5SJIkOThIkiRJkiRJkoPkIEmSJAdJkiT1/v2m//v++83O2t3v2836t1Pb7My8efvm/d68eW82QH7xlAYCnpLGF4Z8QDxmBD4gPiAe04DHxDHdIbu7uxQIBHRPdHQ05efn08jICD0/P3tsWeGJw2t9fHwMj4EDsywDMjs7S8vLy8FnZmaGOjo6KCkpiZKTk2lra8sBcX6Wxa8CxMhqXl5eqLm5mbBjfjsoZoDc3NzQ0NAQvb+/u2Y5lneIESAsWVtbGyUkJJAZHdN7sTYDhMefnp5cE98xQGA1aWlp1NPT45qwbjNmhRsZFY//CkCgrP7+fsrIyHBbb67xZ4X/N4Csrq5SVFQUfX5+WlLa6+srfX19WaJlIvC2yp/nWK2dBCRcOR1zWVj0xsaGCI+NDr23tzcaHx+n4uJiiomJEbQAMDs7m/r6+uj+/t5QdwCvpaVFzEMAUVpaSpeXl4b04QwYAQIXhWdtbU3IfHV1Jdoq1xWpnI4CAmUjBFaVg4MDSk1NFQd/e3s7LSwsiKgMoXRvb68Yi4+Pp7m5OdV0amxsFCH21NQUraysUGFhIaWnpxNA5mKkUB7nmulkhXK/7LJUeRj3MU+urcjJtKraUUCKioqoqalJ953t7W1h2XV1dcKydARE9PHxIRJN7JyLi4sQkoeHB2GZsFAuUBpoNzc3uYuMFBok+PvCdFYBAT2esbGxoBzcp+VtVU7tHPndMUBg2XA/p6enId+4u7sTu6K1tTWkX250d3dTbGysMpc5Pj4Wiri9vQ2ZBqUASC5ow3JlC+dxrpnOKiBm83jcqpxMr6odAWRxcVFYK5ImuQAIRF5axck0yPjhrvb29uQh0YZfBlgTExPKce5kRf8UIFblZHlVtWVA4EZgUfwga0VUVVlZKawSh7JcAAIUPTk5KQ+JNiIsuLjExEQ6OjpS0nAnwMAOHBwcNIyyfhoQyGpFTl6TqrYMCB9i2hoKKisrM7Ts8/NzAdbZ2Znu2wgLa2trRRAguzkd8d8OBAIIGhCVqXaTFwCBqGZyGq0P/ZYBQWSDBfNTU1NDeXl53+YRiKwAIM4RbUFYjJ2FqEs+wLV0qnfcLMMNwhgGBgZCSLwCCIT6Ts4QoaWGZUBkv4w2XM3o6KjE8l8TygYg2h0AP4scAiHr9fX1P2KbbwiXAYo2TPYSILwclZw8pqrDBgTMoAwctkiUVAVuCaAhXESB1SA0zsrK0u0a1Xyzvq6uLgEs08GNwQC+SzBBizAcdPJ/HDNAeVyOzvj7RrUspxEd+iMCBAxg7XiMSmdnp7h0xG6Ai8vNzTUNS2VeOItU2T9nzpwc8pm1v78vswhpT09Pi6gwpJPINI8xA8SqnPJ3te2IAcH1BXYJflipClwbfmIhiUN2bWZd+BGG6I3LycmJsGacR3LBN8GX78NQ49Cvr6+XSYNt0MAwysvLg338wgqX3bM8rlqDHTmZn6qOGBAwHR4eFsmfkauAMuPi4kREJid3LJT2ENSeC1AgrvURBLDiMQdnUWZmJiG40BaEnXBHqpwILhT3YTh7oHy5RAKIXTnlb3PbEUCw0JycHKqurma+uhoHOxQIi8YVChSH8BDuA0rCzy3spPX1dd3cnZ0dMQ+XkqDHmYRkE7tBFRjgrgygFBQUCFp8B//+cXYBDKO8KBJAILRdOXULdeIMYaaHh4disUtLS9ylqwHc/Pw8VVVVUUpKilAylFpSUiIUB6s3KriWqKioEDsNgUJDQwMhOTUqABbfAX/cDuN7cGXgY1QiBQR87copy2K6Q+QJfttdDfiAuKtf29x9QGyrzN0JPiDu6tc2dx8Q2ypzd4IPiLv6tc3dB8S2ytyd8AeBgBk47/E8uAAAAABJRU5ErkJggg==)"
      ]
    },
    {
      "cell_type": "markdown",
      "metadata": {
        "id": "j-cA5iqASLR7"
      },
      "source": [
        "As you can see in graph below - its impossible in long term not to lose money. \r\n",
        "Every simulation will get the same effect, the question is - when will the series of losses happen? \r\n",
        "\r\n",
        "The idea of Martingale system may seem intresing at first glance, but in real world its really dangerous to follow this idea. \r\n",
        "\r\n",
        "This is why:\r\n",
        "  \r\n",
        "  1) Player with an infinite amount of money does not exist.\r\n",
        "\r\n",
        "  2) If a player gets a series of X loses, the next loss probability is still 50%.\r\n",
        "\r\n",
        "  3) On a certain point bet value will be higher than deposit value if we will keep lossing"
      ]
    },
    {
      "cell_type": "code",
      "metadata": {
        "colab": {
          "base_uri": "https://localhost:8080/",
          "height": 279
        },
        "id": "ff0W7PK4RnSA",
        "outputId": "cae62b75-6f57-4566-b008-fdbb328de2a5"
      },
      "source": [
        "plt.plot(game_counter_list, deposit_list)\r\n",
        "plt.xlabel(\"number of games\")\r\n",
        "plt.ylabel(\"deposit\")\r\n",
        "plt.show()"
      ],
      "execution_count": 802,
      "outputs": [
        {
          "output_type": "display_data",
          "data": {
            "image/png": "[encoded data removed]",
            "text/plain": [
              "<Figure size 432x288 with 1 Axes>"
            ]
          },
          "metadata": {
            "tags": [],
            "needs_background": "light"
          }
        }
      ]
    },
    {
      "cell_type": "code",
      "metadata": {
        "colab": {
          "base_uri": "https://localhost:8080/"
        },
        "id": "9e6xDSMRWuqX",
        "outputId": "9c3113dc-041c-4daa-ed10-5c046ff56690"
      },
      "source": [
        "print(\"last deposit values: \",deposit_list[-10:])\r\n",
        "print(\"last bet values: \", bet_list[-10:])"
      ],
      "execution_count": 803,
      "outputs": [
        {
          "output_type": "stream",
          "text": [
            "last deposit values:  [1457, 1453, 1445, 1429, 1397, 1333, 1205, 949, 437, -587]\n",
            "last bet values:  [4, 8, 16, 32, 64, 128, 256, 512, 1024, 2048]\n"
          ],
          "name": "stdout"
        }
      ]
    },
    {
      "cell_type": "markdown",
      "metadata": {
        "id": "FoeTYw8ObAb_"
      },
      "source": [
        "![image.png](data:image/png;base64,iVBORw0KGgoAAAANSUhEUgAAAQ8AAAAlCAYAAABcb2zaAAAMbklEQVR4Ae2cfaRWSxTGjyRJkiRJkiRJkiRJkiRJkiRJkiRJkiRJkiRJkiRJkiRJ0h9JkiRJkiRJkiRJkiRJEnP9tvscc+edj733++7O222GY++zZ2Z9PGvNmpk1c06PySUjkBHICNRAoKdGn9wlI5ARyAiYHDyyE2QEMgK1EMjBoxZsuVNGICOQg0f2gYxARqAWAjl41IItd8oIZARy8Mg+kBHICNRCIBk8bt26ZXp6ekr/0D6XjEAMAfnUhw8fYs1yXQcQaBLr0sHj5MmT5uLFi8mf7BAdsPj/nESTDv0/h66yek1iXTp45KBQ2W5d1+H169dm79695vv3730qW5MO3aeK9RHzmF2bxDoHjz4yeF+wlSN9+vTJy/7YsWNmxowZ5tq1a976Tn2UHHlC6gyiwtNnV9U1gXUOHp2x3x9BRY7kczIUGDx4cJHbmj59eqP6SI4mHLpRwbuUuPD02VV1TWCdg0eXOkQTYsmRfE4Gv82bNxcB5Pjx402w76UpOZpw6F4mf9GL8PTZVXVNYP3HBY+vX792zC3apdVufxSBxq9fv2rpVJW/HMnnZLUE+LdTXTmacOh29Kjbt6r+dfmE+sXsqjob658/f5pv376FyJX+3vXBA6V37NhhJk6caPr161csqwcOHGhmz55tmCEBomz5/PlzkTCcMmWK6d+/f0FrwIABZtasWYb9/o8fP5Kkrl69WvBWf5b6S5YsMffv30/2pQFGO3z4sJk5c6aBN8fg6IV+6Pnu3bsonTr8CRb8XLlypeD38uXL4ve6QeTLly9m3759ZurUqf/Bke3OwYMHk47pc+io0hUrOzGYY37VCT+qqJK3eRm7Cmv8Ch/H9zWOhgwZYpYtW2YePXrkpZ/62GjwYEZF2FWrVrXI8eTJk0IJHNouDx48MJMnTy6c+8KFC8UyetSoUWbbtm3FMfH169fNmTNnzOrVq4vBN378ePPs2TObhPedfsOGDTPDhw83W7ZsMdAWrbVr1xoCErSePn3a0l8GAGiARx/6k1gkEEyYMKEYRCdOnGjpa3+4e/euQReMtn79enPu3LlCBo7At2/fXtQRjE6dOmV3M+3yj93TsRmJTyyo3Lhxo8AQLDdt2mTOnz9f6IAuGzZs6LXXvXv3euV26YmPPRvaclR9f//+vdm5c2fhNwrqPKdNm1YEOYJdqNiyMHkQFEeOHGl2797t7dIJP/LpLTlcrBAiVFfGrupLoMfHN27caC5dulT47oEDB8zYsWML33V9zqu887F08Hj+/HnvbKWI53u6Efv27dvFbIcz2WXOnDlm3rx59qfiXcpiPMBhoIeOFt+8eVOsGhiMvkEv4pcvXy4G/Zo1a4ptgr7bz7dv3xYrCh8tyTRo0CCDPm7B6VasWFHwIED4CoOOlQYByOcg9IEORqYdeKu0y5/+/Bw6dKjAlICtb+LBU3xC8rHqYVASPEMD8uPHj8VKDB0Y0NjQpSc+vkFky1Pm/fTp0wa7MOCZYDQpENTwHSYLAh2BXhOTLbtkYTXGahb779mzx7x48aKFfaf8yKe35HCxitmFPvzE7Cq6TFq+SZaxtXTp0sJ33THaAoDzoXTwiEU5uw5h3cKAYRZQIfLhhD5lpCw0d+3apS7BJwMOoxNBfUGGM3Cci4ibKgQ+ghq0oKsimVjxhAp92XosXLiwpQmBCadkhRMrW7duLWYHZje7tMtftETH56C0idULR1YXZQoBRn7h8hMf3yAqQ1ttmDlZCRKkbHupnifbRBLBtFu3bl1LMJMsHFGPHj3aEER8Rfp3wo98eksOFytkidWl6tXXN+lJT7Bj9ezzXbXxPUsHDwY8gqR+2A+6hRUCSyaWRgjK4MSgviJlyUOULeznCBBsIdzC9obtiLsictvpd5bALi3J5DO6+vE8evRooaf9jXeCxrhx44IOThst+X1Gbpe/5BEdn4PSJlbPqq0KjgxaBiMBxOUnPik8JbfveefOnYI2mJcp5JN8wUyysFJiKx0qTfuR5HCxQp5YXapefVNYHzlyxOu7ITz4Xjp4pJjHmFDHNoQlJEtLlpG+IEM7KUseoEohh+DeTyBQkUMgUVSluLQkUwoDVgw4qK2bZAg5OXkhZumhQ4cGk67t8Lf1Fh2fg9IuVC8dquK4f//+xoIHq8358+fb6iXf8Q83mEnn2Iqirv5V/Ehy+GwTq4vZza6r47spQH9b8LBnotg9AgHFCqBKIWHH7GEX8iA4S2xGsdvr3aUlmVIGUDvbAWIysBpiv0lQffz4sdi3PEW3Dn+bmOjY8pWpj+lg93ffb9682TJYaSM5Uvq49PQ7eRW2IW6yXfWhJ/mRUPBAplCpq38VPxImPtvE6pA5Vq+6FNZq5+MfwuW3BQ8EYPmO0WPHkVIipayrkGZ9+5iO5CXOQs6hSnFplZVJ7WwDhGQgP8Mek0SWnRz1ySm6KUzUzuZv06tbH9LBpu17D/HT95Q+Ppp8I/GJXV+9ehVq4v0uvjY++sbWOlTq6l/FjySHLZvkidXRJlavuhTWaufjLznc528LHgwQkqSpxKGUiAUYVwl+P3v2bMvKg4QsThab1cvQkkx1DIDergwEOCVmywyAdvjb+olOyEFC9XVx5IQJ3V1+4pPC05bdflfwCCU37bb2u/ja8uhbTJa6+rs+GeOlOls2yR6ro02sXnUx/VI0JIf7/G3BY8GCBcWxKg7F6gMH8BUpC/BVCgk9N8nKtoBgRTKoSmGFxCUuFclUxwDIQD6D4zQK+RAy+2S3y66I2uEvHXiKjs9BY/XC0ZeQtum77xx5NhE8kB8fqpoX499KuPIIk5htpX+TfiQ5fLaJ1cXsZtfF9LPb+fi7dtXvvyV4cD8AY+sm2+LFi4sBJCHsp4DiaBejlSkco3Ga47ukRdLKPXqN0WRAQ8vOy0imugYgGcfJA6sMLs1xCS5Fy5axXf6iJTohB4nVg+OYMWOiJ0biw5O7FCNGjGgZrNSJTxUMbNq8c0eIpGnZQmIa3OsED3g07UfChHyOW1RXx27qm8Ja7UI8XJn4vfHgQaaaIz7AV2G5SXKThJJbpATBJnSca/chEUugmTRpkjfY6I4FK5NUIQ/BioP7Gnbgkkx1DUA/TpjQmYx/ykDMkFxIUmmXv0snxF98fPVsI1nFcWSZKgxUruxjQ3ew0ld8UnjG+Dx8+LCgz43QMoUAjiyuPGVl6YQfabvl20az0kY234qccQKWjCVfkQ4+u6kuhbXa+Wj4ePKt8eDB3zrgdG5E1XVsBr9dpARHm+RIGPT20afdliw4MzkzXCx3YN/udOUQPW4UMrA5+XD30pKpHQOQdOP+yNy5c00oOYeeSirb14U7wR89RSfkIKl6Tk8IgASGEBboho4ckTd5VIs+2oYQGOxbo7IpT3Ql4MmXGKC2P0nnkD42rXb9iMHPJLJy5UqbbHG5ET9GNrC1C33wy9gqSzr47Kq6lH5q56Nhy2O/lw4edf4NIcetOJFvr0jSkCvF3A60i5RAWYxFYCBnwKBiK0EUJn+waNGiIhoDbGgw2nQZvGwdkAdnEi1kw2A4F1fDfUHIlsmm6b6rXcgAzDiswhiA3LqFN/ogC0GSIItzsc2zi+i26wCiE5IvVY9M/AEg2xcCIYOAux/ogC7ohG7kcwjsIXr6ntLHxiD0znEtmIEdGIIlV9ORi/szyMmJFpfKNCHZtKrK0o4fwZc8DasIEubIii+DFzJytR55Wf0iPzkmVtT4rG+1Ij2kg8+uqkthrXY+GuLjPksHD6JimR+EUMGY7hZAdTy57o2z2QNWSkhZggwgEnm19AdoBnzVhBnbEozCzMgKA94EMHIwOFyouDKl2sUMwHYIvQl+8EYGZEE/HMk+ahafTvEXnZB8qXrJw2yI45N3ILijA0+OnrlLoS1fiJ6+y8aiW/cpH7HtijzIh731Zwv8bv+ZBPzqyFLXj6QfPLE3uTV8mslMp4sECXAkYBAQ8fOyR/k+u5bVT+18NCS3+0wGD7dD079LiU45VtPyZvp9hwA+UvaPuWjH5Ff1xKjvtOt+zjl4dL+NsoQBBJYvX17MzqkbxGyf2Wql/r4owCZ/DiCQg0cAmPy5+xFgic3xK1sUkrm+Qo6Go3q2B6nlv69//hZGIAePMDa55g9AgNMzch0kIclpsC1RUp0/nON7KBH+B6jX1SLm4NHV5snClUWA5LmdhFZSnROMXJpBoOuCRzNqZqoZgYxApxHIwaPTiGZ6GYG/BIEcPP4SQ2c1MwKdRuAfrlCma9tP9PAAAAAASUVORK5CYII=)"
      ]
    },
    {
      "cell_type": "markdown",
      "metadata": {
        "id": "QjmecLs0Nc9v"
      },
      "source": [
        "Bets grow exponentially and that is the main problem for a player with a limited budget. Player with an infintite amount of money does not exists.\r\n"
      ]
    },
    {
      "cell_type": "code",
      "metadata": {
        "colab": {
          "base_uri": "https://localhost:8080/",
          "height": 279
        },
        "id": "dT_3SCpoDXOz",
        "outputId": "e9b00ea4-3b31-4a0b-f5fd-ba4e1f4d3a06"
      },
      "source": [
        "y_pyplot = []\r\n",
        "for n in range(0,15,1):\r\n",
        "  y_pyplot.append(2**n)\r\n",
        "\r\n",
        "x_pyplot = np.arange(1,16)\r\n",
        "fig, ax = plt.subplots()\r\n",
        "ax.yaxis.set_ticks(np.arange(0, 1000000,2500))\r\n",
        "\r\n",
        "plt.plot(x_pyplot,y_pyplot)\r\n",
        "plt.xlabel(\"number of lost games\")\r\n",
        "plt.ylabel(\"current bet value\")\r\n",
        "plt.show()"
      ],
      "execution_count": 804,
      "outputs": [
        {
          "output_type": "display_data",
          "data": {
            "image/png": "[encoded data removed]",
            "text/plain": [
              "<Figure size 432x288 with 1 Axes>"
            ]
          },
          "metadata": {
            "tags": [],
            "needs_background": "light"
          }
        }
      ]
    }
  ]
}