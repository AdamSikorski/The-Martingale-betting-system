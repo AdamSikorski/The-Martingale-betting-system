{
  "nbformat": 4,
  "nbformat_minor": 0,
  "metadata": {
    "colab": {
      "name": "Martingale_system.ipynb",
      "provenance": [],
      "collapsed_sections": [],
      "authorship_tag": "ABX9TyO3omB63YDJPXknJiwhVPZp",
      "include_colab_link": true
    },
    "kernelspec": {
      "name": "python3",
      "display_name": "Python 3"
    }
  },
  "cells": [
    {
      "cell_type": "markdown",
      "metadata": {
        "id": "view-in-github",
        "colab_type": "text"
      },
      "source": [
        "<a href=\"https://colab.research.google.com/github/Seeethy/The-Martingale-betting-system/blob/main/Martingale_system.ipynb\" target=\"_parent\"><img src=\"https://colab.research.google.com/assets/colab-badge.svg\" alt=\"Open In Colab\"/></a>"
      ]
    },
    {
      "cell_type": "markdown",
      "metadata": {
        "id": "sSO5NFXxO0iX"
      },
      "source": [
        "![image.png](data:image/png;base64,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)"
      ]
    },
    {
      "cell_type": "markdown",
      "metadata": {
        "id": "Rw1P_211KnOA"
      },
      "source": [
        "**A martingale betting strategy** was found in 18-century. Its still very popular nowadays among people who make bets. This strategy was at first designed for a simple \"toss a coin\" game. If a flipped coin came up as heads - player wins, if it comes as tails - player losses. \r\n",
        "\r\n",
        "**This strategy has got 3 key ideas:**\r\n",
        "\r\n",
        "  1) Player starts with a certain bet\r\n",
        " \r\n",
        "  2) Player is multiplying next bet by 2 after every loss.\r\n",
        "\r\n",
        "  3) If a player wins he resets the value of the next bet.\r\n",
        "\r\n",
        "Lets check that strategy in practise by making an experiment. A player will start playing with 100 dolars by betting 1 dolar per game. In reality, if a player plays for example a roulette - he has less winning chance than 50% (48.60% - european roulette, 47.4% - american roulette). Cassinos also usually restrict how many games you can play at a certain table and the maximal bet which you can make. For this experiment we will ignore this and make a simulation of a a random game which seems to be ideal for a player. Lets see what happens..."
      ]
    },
    {
      "cell_type": "code",
      "metadata": {
        "id": "_0UjZsii_gZf"
      },
      "source": [
        "import random\r\n",
        "import matplotlib.pyplot as plt\r\n",
        "import math as m\r\n",
        "from matplotlib.ticker import FormatStrFormatter\r\n",
        "import matplotlib.ticker\r\n",
        "import numpy as np\r\n",
        "\r\n",
        "def game():\r\n",
        "  coin = ['heads', 'tails']\r\n",
        "  result = random.choice(coin)\r\n",
        "  if result == 'heads':\r\n",
        "    game_status = 'win'\r\n",
        "  if result == 'tails':\r\n",
        "    game_status = 'loss'\r\n",
        "  return game_status\r\n",
        "\r\n",
        "deposit = 100\r\n",
        "bet = 1\r\n",
        "bet_list = []\r\n",
        "deposit_list = []\r\n",
        "game_counter = 0\r\n",
        "game_counter_list = []\r\n",
        "bet_list.append(bet)\r\n",
        "deposit_list.append(deposit)\r\n",
        "game_counter_list.append(game_counter)\r\n",
        "\r\n",
        "\r\n",
        "while game_counter <= 1000000:\r\n",
        "  #print(deposit - bet)\r\n",
        "  deposit = deposit - bet \r\n",
        "  game_output = game()\r\n",
        "\r\n",
        "  if game_output == 'win':\r\n",
        "    #print('win')\r\n",
        "    deposit += bet*2\r\n",
        "    bet = 1\r\n",
        "    #print(\"deposit after win\",deposit)\r\n",
        "\r\n",
        "  else: # if game_output == 'loss':\r\n",
        "    #print('loss')\r\n",
        "    #print(\"deposit after loss\",deposit)\r\n",
        "    bet = bet * 2\r\n",
        "    if bet > deposit: # if a player cannot afford to double a bet - he goes all in\r\n",
        "     bet = deposit\r\n",
        "\r\n",
        "  bet_list.append(bet)\r\n",
        "  deposit_list.append(deposit)\r\n",
        "  game_counter +=1\r\n",
        "  game_counter_list.append(game_counter)\r\n",
        "  if deposit <=0:\r\n",
        "    break"
      ],
      "execution_count": 592,
      "outputs": []
    },
    {
      "cell_type": "markdown",
      "metadata": {
        "id": "fCzOVgABaQL5"
      },
      "source": [
        "![image.png](data:image/png;base64,iVBORw0KGgoAAAANSUhEUgAAAGQAAAAiCAYAAACp43wlAAAFj0lEQVRoBe1ZQSg+QRT/kiRJkoPkIEmSJEkOkuQgSZIkSZIkJ0kOkiQ5SJIkOThIkiRJkiRJkoPkIEmSJAdJkiT1/v2m//v++83O2t3v2836t1Pb7My8efvm/d68eW82QH7xlAYCnpLGF4Z8QDxmBD4gPiAe04DHxDHdIbu7uxQIBHRPdHQ05efn08jICD0/P3tsWeGJw2t9fHwMj4EDsywDMjs7S8vLy8FnZmaGOjo6KCkpiZKTk2lra8sBcX6Wxa8CxMhqXl5eqLm5mbBjfjsoZoDc3NzQ0NAQvb+/u2Y5lneIESAsWVtbGyUkJJAZHdN7sTYDhMefnp5cE98xQGA1aWlp1NPT45qwbjNmhRsZFY//CkCgrP7+fsrIyHBbb67xZ4X/N4Csrq5SVFQUfX5+WlLa6+srfX19WaJlIvC2yp/nWK2dBCRcOR1zWVj0xsaGCI+NDr23tzcaHx+n4uJiiomJEbQAMDs7m/r6+uj+/t5QdwCvpaVFzEMAUVpaSpeXl4b04QwYAQIXhWdtbU3IfHV1Jdoq1xWpnI4CAmUjBFaVg4MDSk1NFQd/e3s7LSwsiKgMoXRvb68Yi4+Pp7m5OdV0amxsFCH21NQUraysUGFhIaWnpxNA5mKkUB7nmulkhXK/7LJUeRj3MU+urcjJtKraUUCKioqoqalJ953t7W1h2XV1dcKydARE9PHxIRJN7JyLi4sQkoeHB2GZsFAuUBpoNzc3uYuMFBok+PvCdFYBAT2esbGxoBzcp+VtVU7tHPndMUBg2XA/p6enId+4u7sTu6K1tTWkX250d3dTbGysMpc5Pj4Wiri9vQ2ZBqUASC5ow3JlC+dxrpnOKiBm83jcqpxMr6odAWRxcVFYK5ImuQAIRF5axck0yPjhrvb29uQh0YZfBlgTExPKce5kRf8UIFblZHlVtWVA4EZgUfwga0VUVVlZKawSh7JcAAIUPTk5KQ+JNiIsuLjExEQ6OjpS0nAnwMAOHBwcNIyyfhoQyGpFTl6TqrYMCB9i2hoKKisrM7Ts8/NzAdbZ2Znu2wgLa2trRRAguzkd8d8OBAIIGhCVqXaTFwCBqGZyGq0P/ZYBQWSDBfNTU1NDeXl53+YRiKwAIM4RbUFYjJ2FqEs+wLV0qnfcLMMNwhgGBgZCSLwCCIT6Ts4QoaWGZUBkv4w2XM3o6KjE8l8TygYg2h0AP4scAiHr9fX1P2KbbwiXAYo2TPYSILwclZw8pqrDBgTMoAwctkiUVAVuCaAhXESB1SA0zsrK0u0a1Xyzvq6uLgEs08GNwQC+SzBBizAcdPJ/HDNAeVyOzvj7RrUspxEd+iMCBAxg7XiMSmdnp7h0xG6Ai8vNzTUNS2VeOItU2T9nzpwc8pm1v78vswhpT09Pi6gwpJPINI8xA8SqnPJ3te2IAcH1BXYJflipClwbfmIhiUN2bWZd+BGG6I3LycmJsGacR3LBN8GX78NQ49Cvr6+XSYNt0MAwysvLg338wgqX3bM8rlqDHTmZn6qOGBAwHR4eFsmfkauAMuPi4kREJid3LJT2ENSeC1AgrvURBLDiMQdnUWZmJiG40BaEnXBHqpwILhT3YTh7oHy5RAKIXTnlb3PbEUCw0JycHKqurma+uhoHOxQIi8YVChSH8BDuA0rCzy3spPX1dd3cnZ0dMQ+XkqDHmYRkE7tBFRjgrgygFBQUCFp8B//+cXYBDKO8KBJAILRdOXULdeIMYaaHh4disUtLS9ylqwHc/Pw8VVVVUUpKilAylFpSUiIUB6s3KriWqKioEDsNgUJDQwMhOTUqABbfAX/cDuN7cGXgY1QiBQR87copy2K6Q+QJfttdDfiAuKtf29x9QGyrzN0JPiDu6tc2dx8Q2ypzd4IPiLv6tc3dB8S2ytyd8AeBgBk47/E8uAAAAABJRU5ErkJggg==)"
      ]
    },
    {
      "cell_type": "markdown",
      "metadata": {
        "id": "j-cA5iqASLR7"
      },
      "source": [
        "As you can see in graph below - its impossible in long term not to lose money. \r\n",
        "Every simulation will get the same effect, the question is - when will the series of losses happen? \r\n",
        "\r\n",
        "The idea of Martingale system may seem intresing at first glance, but in real world its really dangerous to follow this idea. \r\n",
        "\r\n",
        "This is why:\r\n",
        "  \r\n",
        "  1) Player with an infinite amount of money does not exist.\r\n",
        "\r\n",
        "  2) If a player gets a series of X loses, the next loss probability is still 50%.\r\n",
        "\r\n",
        "  3) On a certain point bet value will be higher than deposit value if we will keep lossing"
      ]
    },
    {
      "cell_type": "code",
      "metadata": {
        "colab": {
          "base_uri": "https://localhost:8080/",
          "height": 279
        },
        "id": "ff0W7PK4RnSA",
        "outputId": "6b7ecdd6-5170-4306-b742-0e3578440e40"
      },
      "source": [
        "plt.plot(game_counter_list, deposit_list)\r\n",
        "plt.xlabel(\"number of games\")\r\n",
        "plt.ylabel(\"deposit\")\r\n",
        "plt.show()"
      ],
      "execution_count": 593,
      "outputs": [
        {
          "output_type": "display_data",
          "data": {
            "image/png": "[encoded data removed]",
            "text/plain": [
              "<Figure size 432x288 with 1 Axes>"
            ]
          },
          "metadata": {
            "tags": [],
            "needs_background": "light"
          }
        }
      ]
    },
    {
      "cell_type": "code",
      "metadata": {
        "colab": {
          "base_uri": "https://localhost:8080/"
        },
        "id": "9e6xDSMRWuqX",
        "outputId": "979589bc-e9e8-46ed-bb3a-aa54b1019c75"
      },
      "source": [
        "print(\"last deposit values: \",deposit_list[-10:])\r\n",
        "print(\"last bet values: \", bet_list[-10:])"
      ],
      "execution_count": 594,
      "outputs": [
        {
          "output_type": "stream",
          "text": [
            "last deposit values:  [299, 298, 296, 292, 284, 268, 236, 172, 44, 0]\n",
            "last bet values:  [1, 2, 4, 8, 16, 32, 64, 128, 44, 0]\n"
          ],
          "name": "stdout"
        }
      ]
    },
    {
      "cell_type": "markdown",
      "metadata": {
        "id": "hXojDZyzzjLk"
      },
      "source": [
        "We can't make a judgement about this strategy based on a single event. \r\n",
        "Lets make a simulation of 10000 players playing up to 10000 games. \r\n",
        "\r\n",
        "If a player have more money at the end than a starting deposit - then we consider him as a winner. If a player has less money at the end than at the start - he is a loser."
      ]
    },
    {
      "cell_type": "code",
      "metadata": {
        "colab": {
          "base_uri": "https://localhost:8080/",
          "height": 402
        },
        "id": "r7UckGgW0ufp",
        "outputId": "24567591-6d42-4453-a7ac-12a9bc904220"
      },
      "source": [
        "import pandas as pd\r\n",
        "\r\n",
        "\r\n",
        "def single_simulation():\r\n",
        "  \r\n",
        "  deposit = 100\r\n",
        "  global starting_deposit\r\n",
        "  starting_deposit = deposit\r\n",
        "  bet = 1\r\n",
        "  game_counter = 0\r\n",
        "  global last_value_of_deposit\r\n",
        "  last_value_of_deposit = 0\r\n",
        "  \r\n",
        "  while game_counter <= 10:\r\n",
        "    \r\n",
        "    deposit = deposit - bet \r\n",
        "    #print(deposit)\r\n",
        "    game_output = game()\r\n",
        "    \r\n",
        "    if game_output == 'win':\r\n",
        "      deposit += bet*2\r\n",
        "      bet = 1\r\n",
        "    else:\r\n",
        "      bet = bet * 2\r\n",
        "      if bet > deposit: # if a player cannot afford to double a bet - he goes all in\r\n",
        "        bet = deposit\r\n",
        "\r\n",
        "\r\n",
        "    last_value_of_deposit = deposit\r\n",
        "    game_counter +=1\r\n",
        "\r\n",
        "    if deposit <=0:\r\n",
        "      break\r\n",
        "  return last_value_of_deposit\r\n",
        "\r\n",
        "lvod_list = []\r\n",
        "number_of_players = 100\r\n",
        "for i in range(number_of_players):\r\n",
        "  lvod_list.append(single_simulation())\r\n",
        "\r\n",
        "\r\n",
        "single_simulation()\r\n",
        "win_or_lose = []\r\n",
        "change_list = []\r\n",
        "winning_players = []\r\n",
        "mean = 0\r\n",
        "for i in range(len(lvod_list)):\r\n",
        "  change = (lvod_list[i] - starting_deposit) / starting_deposit\r\n",
        "  #print(change)\r\n",
        "  percentage = \"{:.0%}\".format(change)\r\n",
        "  change_list.append(percentage)\r\n",
        "  if change > 0.0:\r\n",
        "    winning_players.append(change)\r\n",
        "    win_or_lose.append(\"WIN\")\r\n",
        "  else:\r\n",
        "    win_or_lose.append(\"LOSE\")\r\n",
        "  mean+=change\r\n",
        "mean = mean / number_of_players\r\n",
        "name_list = []\r\n",
        "for number in range(1,number_of_players+1):\r\n",
        "  list_element = 'player.' + str(number)\r\n",
        "  name_list.append(list_element)\r\n",
        "\r\n",
        "df = pd.DataFrame({'deposit': lvod_list,\r\n",
        "                 'rate of return': change_list,\r\n",
        "                  'Win or lose': win_or_lose})\r\n",
        "\r\n",
        "df = df.rename_axis('player ID')\r\n",
        "df.columns.name = df.index.name\r\n",
        "df.index.name = None\r\n",
        "df.index = np.arange(1, len(df)+1)\r\n",
        "df\r\n",
        "\r\n"
      ],
      "execution_count": 595,
      "outputs": [
        {
          "output_type": "execute_result",
          "data": {
            "text/html": [
              "<div>\n",
              "<style scoped>\n",
              "    .dataframe tbody tr th:only-of-type {\n",
              "        vertical-align: middle;\n",
              "    }\n",
              "\n",
              "    .dataframe tbody tr th {\n",
              "        vertical-align: top;\n",
              "    }\n",
              "\n",
              "    .dataframe thead th {\n",
              "        text-align: right;\n",
              "    }\n",
              "</style>\n",
              "<table border=\"1\" class=\"dataframe\">\n",
              "  <thead>\n",
              "    <tr style=\"text-align: right;\">\n",
              "      <th>player ID</th>\n",
              "      <th>deposit</th>\n",
              "      <th>rate of return</th>\n",
              "      <th>Win or lose</th>\n",
              "    </tr>\n",
              "  </thead>\n",
              "  <tbody>\n",
              "    <tr>\n",
              "      <th>1</th>\n",
              "      <td>105</td>\n",
              "      <td>5%</td>\n",
              "      <td>WIN</td>\n",
              "    </tr>\n",
              "    <tr>\n",
              "      <th>2</th>\n",
              "      <td>108</td>\n",
              "      <td>8%</td>\n",
              "      <td>WIN</td>\n",
              "    </tr>\n",
              "    <tr>\n",
              "      <th>3</th>\n",
              "      <td>98</td>\n",
              "      <td>-2%</td>\n",
              "      <td>LOSE</td>\n",
              "    </tr>\n",
              "    <tr>\n",
              "      <th>4</th>\n",
              "      <td>100</td>\n",
              "      <td>0%</td>\n",
              "      <td>LOSE</td>\n",
              "    </tr>\n",
              "    <tr>\n",
              "      <th>5</th>\n",
              "      <td>106</td>\n",
              "      <td>6%</td>\n",
              "      <td>WIN</td>\n",
              "    </tr>\n",
              "    <tr>\n",
              "      <th>...</th>\n",
              "      <td>...</td>\n",
              "      <td>...</td>\n",
              "      <td>...</td>\n",
              "    </tr>\n",
              "    <tr>\n",
              "      <th>96</th>\n",
              "      <td>90</td>\n",
              "      <td>-10%</td>\n",
              "      <td>LOSE</td>\n",
              "    </tr>\n",
              "    <tr>\n",
              "      <th>97</th>\n",
              "      <td>105</td>\n",
              "      <td>5%</td>\n",
              "      <td>WIN</td>\n",
              "    </tr>\n",
              "    <tr>\n",
              "      <th>98</th>\n",
              "      <td>106</td>\n",
              "      <td>6%</td>\n",
              "      <td>WIN</td>\n",
              "    </tr>\n",
              "    <tr>\n",
              "      <th>99</th>\n",
              "      <td>104</td>\n",
              "      <td>4%</td>\n",
              "      <td>WIN</td>\n",
              "    </tr>\n",
              "    <tr>\n",
              "      <th>100</th>\n",
              "      <td>105</td>\n",
              "      <td>5%</td>\n",
              "      <td>WIN</td>\n",
              "    </tr>\n",
              "  </tbody>\n",
              "</table>\n",
              "<p>100 rows × 3 columns</p>\n",
              "</div>"
            ],
            "text/plain": [
              "player ID  deposit rate of return Win or lose\n",
              "1              105             5%         WIN\n",
              "2              108             8%         WIN\n",
              "3               98            -2%        LOSE\n",
              "4              100             0%        LOSE\n",
              "5              106             6%         WIN\n",
              "..             ...            ...         ...\n",
              "96              90           -10%        LOSE\n",
              "97             105             5%         WIN\n",
              "98             106             6%         WIN\n",
              "99             104             4%         WIN\n",
              "100            105             5%         WIN\n",
              "\n",
              "[100 rows x 3 columns]"
            ]
          },
          "metadata": {
            "tags": []
          },
          "execution_count": 595
        }
      ]
    },
    {
      "cell_type": "code",
      "metadata": {
        "colab": {
          "base_uri": "https://localhost:8080/"
        },
        "id": "h08RQiO8C4ZQ",
        "outputId": "859bb540-3906-4e4e-e60c-bad1252223b3"
      },
      "source": [
        "percentage_of_wins = \"{:.0%}\".format(len(winning_players)/number_of_players)\r\n",
        "percentage_of_return = \"{:.0%}\".format(mean)\r\n",
        "print(\"From\",number_of_players,\"players\", len(winning_players), \"has been succesfull. Wins represent\", percentage_of_wins,\"of the games. Average rate of return:\",percentage_of_return) "
      ],
      "execution_count": 596,
      "outputs": [
        {
          "output_type": "stream",
          "text": [
            "From 100 players 80 has been succesfull. Wins represent 80% of the games. Average rate of return: 2%\n"
          ],
          "name": "stdout"
        }
      ]
    },
    {
      "cell_type": "markdown",
      "metadata": {
        "id": "M1gykWEiDd8c"
      },
      "source": [
        ""
      ]
    },
    {
      "cell_type": "markdown",
      "metadata": {
        "id": "gGj3jZ_SymBS"
      },
      "source": [
        "![image.png](data:image/png;base64,iVBORw0KGgoAAAANSUhEUgAAAfwAAAAqCAYAAABWQumVAAASKUlEQVR4Ae2dD6R2xRPHX0mSJEmSJEmSJEmSJEmSJEmSJEmSJEmSJEmSJEmSJEmSJEmSJEmSJEmSJEmSJEmS2J/P8fu+pr2ze86zz557z73PLNc5z/6ZnfnuzM7+PXdfihAIBAKBQCAQCAQCex6BfXtewhAwEAgEAoFAIBAIBFI4/FCCQCAQCAQCgUBgAxAIh78BjRwiBgKBQCAQCAQC4fBDBwKBQCAQCAQCgQ1AIBz+BjRyiBgIBAKBQCAQCITDDx0IBAKBQCAQCAQ2AIFw+BvQyCFiIBAIBAKBQCAQDj90IBAIBAKBQCAQ2AAEJjv8d999N+3bt2/L34EHHphOP/309OCDD6bffvttAyALEWsISE9+/vnnWrbFp+0VORYPdDC4sQiEjW1/06/s8J9++un08ssv7/976qmn0k033ZSOOOKIdOSRR6a33npr+6WIGheDwF4x4r0ix2IUIxgJBDIEwsYyQLbh58oOvzRz+/3339O1116bmPGH09+GlltoFbvFiL/77rt0//33p7/++stFcrfI4TI/MXIMg4lkumdbKl/dBd1wgjUbCx1ISRj8+eef3TSlm8MXRzfccEM67LDDUmlgoHzx3JsI1Ix4SRKLz19//dVlS+mtevzEE0+ks846K7355psu/SVESsYSBjvF41L52ik89mq9amfPxpS2NN3czrYQBh4+rXx0d/jMmI499th0xx13tPIU5XYxAnMo6RxwiM9Sh6L0VmM79NBDh/MuZ5555hzsd6EpGUsYdKmkgchS+WoQJYpUEFA7ezamtKXpZkWc7knCwMOntbLuDh9G7rnnnnTCCSe08hTldjECcyjpHHCIz1KHovRWY7v11lsTTv/JJ5+cg/0uNCVjCYMulTQQWSpfDaJEkQoCamfPxpS2NN2siNM9SRh4+LRWNovDf/XVV9MBBxyQ/vnnn0l8/fHHH+nff/+dlLeUCRqtAT6n8urVsU7d0Gspvy7Pnhw94jwlhdee+1A9+Sx1KNshx1xtOJWuZCxhsC7OLXpNnevyRb3r9ifryr7by7e2neSeUl7t7Dk0pc2lm+Kz93OK3FPrFAYePlNp5PlmcfhvvPHGsJxZOhBF5//oo4+ms88+Ox100EFDXgYIJ598crrrrrvSjz/+mPO55TeHBB944IHhSiAHBbkyCC2WUB9++OFJDobGue6664Zy0DjvvPPS119/vaWuPILrhxz4Ou2004ZDiqr7nHPOSezd/v3333mRLb9ff/31dO655+4vz2zwsssuSx999NGWvDailWdLY853KSltCBZgRNuCEWc7rrjiivTpp5/OyUKVNh0If6+99trA0zfffDP8zjuWOeWYqw2n0p2KQQlIBhReWNcmW/nq0Z/k8oDlJoWd6NNkY9ahterATrVVD9ws79a2PHxs3pb3WRw+zpwrel744IMP0jHHHDN0/jfeeGN64YUXhlP9XPW78847hzSc3zPPPOMVH+LefvvtgT5XAW+55Zb04osvDjSgxRVBylPHhx9+WJ0tXH311cN1QhzTK6+8MgwWjj/++OpggRsIuoJ42223pZdeemmo+7nnnkvXX399Ovjgg9OJJ56Yvvjiiy38qwFxejjBa665ZijPwS4wO+mkk4YBAFcdS6GF5xIt4sWTNTrlV1ruDG25PE1l+DYDWNx8880Dtsj40EMPJfBlcOW1L7gwCBoLtDO0f/rpp7GsW9IZeJT+bOZ15ICOyuf4kNa7DcX3VLol+Ym3QTKgGwxiGWAfffTR6d5777XZhvceNjmVL1t5j/4EeujS3XffnU499dT9g3D09IwzzhjkZjBTC3Prrm2LnA+lebpWSxOdne7TxAfPFh2w5fN3yd+rf7P0e+BWsy2Pd67Fo5ektYT/WniFgld5KTunk3FmeaBTYBaOcXjKSX46FpwF+b766qucRGJmjMDQLxnhL7/8MsyWoYERo0R5fRg48cz0FACfMqWT1dqqYFWgNAP44YcfBqfFbDZ3+sLwkEMOSe+9956q3f9E9quuumoYDNCR5aGF55xG/ls89TII0WPA9eWXX+bVDdfgLr/88kFGBmQ2fPbZZ0ObeLLbfHTK7JG3BPjj75FHHtnf/oqz9NaRAzoq30PvLF+l91V0Q/JOxYBVEAZi6PR99923ZRWsl01O5UsY9OhPoPXss88mbJLBDIeNNYhnIsGgnskLg3z6hY8//ngYFOR9z9y6K33qZafCcKf7NPGh56o6oHKl59Jxq9lWzjv9Iv7pscceK4k7Gt/d4TNzY/aKAdiAI6TDYBZcC7fffvswe/Pu8nMvEcNkFj8lMCjQiDHveDFc0r7//vv/kAJkb0ledTNjHQssy7A9wGzW0lIDshpQCpRla+Piiy/ekmVVnrcQcCLEU6+ORPS8AY2qBxNWMzwZL7300nTJJZco65YnzgWlR5/WCeIz1wvRVHqrHCqf05+jDeG5hW6JxxwDBvDcvKFzyoPsoodNivYYX+Tr0Z9Ah1Un+ismBtZWxQtPtgwYYJKPa8feBIJ8c+quMOllp/CrttvJPs3ibN8lb24/Ns+Ud9FZKm4127K8o+9HHXXU8K2bKXKX8nR1+IyI6YzZ384Djp6T+yWjIr+W40udLDNrlsvtPkdej/2NodJReQbKDJ1l4amjJT4qtErdzLgYnLBUr2AbUHHe8/HHHx94y9NW5Tkv7/2u8aQ0z+hKaYr3DMzWD+7gn4dPPvlkaK/PP/88Txp+c+5jqnNxCfw/Unx6spFF6a1yqHxOf442hN8WuiUehZvSselSe/S0ybzeHDul8+zRn7z//vuDrmFvUwLni0oTCMrPqbtqC08flebhVUtbQp9Wwr3Gd6mMFy86S8WtZlvinYEZq96cT6v5T0/+PG5lh88yO4qlP5hhWYjZGsaAUeQBJtlXLxkWJ2qZjR9++OHFQ2uiwX77KoFv/HsOHxo4HUbtLFPWBhGtdXNGwd7DVgN6ymdlYnUDnr3/TTCVZ0uv9l7jSWmrdCQqs46MF1100bC1kfPNQJDtHHRu3SA+PdmgrfRWOVTeo9+7DYXFqnRrPFoMSjPAVruo2aSt18OOdNW7Tn8CHbYpLrzwQl4nB+y51J9AZC7dVVt5+qg0D69SmjBctT+do0/zwC/x7eWtxYnOUnEr2RYyifcLLrhg0LnaynANA5u2ssNH2fM/nOb555/v7ktTGXvZlPFmCTha9nTZJ8u3ASyjNRo2X/7+zjvvVA2UA2DUzTJ6aWWhtW5oM4JTUAN6yqc8PJXPM2DSp/Bs6dXeVZfHk9I8PkppivfoWT6Uz6PN3j46lS8h0zkzo+wRavVDX+mtcqi8Jx/0e7ahxWMVumM8Kp2nF1rtYswmVW8Ju1q9U/sTzvmgY/YMjydjHsd+f83hz6W7wsTTR6V5eJXSahjmMtvfc/Vptg7eS3zn+cZ+i85ScYO/UhDv+BBucI2tkJfo2PiVHT6n2WFEfzDC1avavVcOG2Ak+b4r1/ZYGeCAl3dAzzJaomHzeO8CzTMG5WcmzRIhHYB3Arm1bs3UWW4liBdP+cSLzbcOz5Ze7b3Gk9I8Pkppil9XRgaQzCYUuMpH+0y5Nqkytaf49GSjnNJb5VD5En3qGNO7Gv+1tKl0x3hUen7ORXW32oXolrAZSy/Vu0p/ojMP3377rcSZ9BzjDSJz6K7q9fRRaR6epbQShmMgzNmn2bpLfNs8U95FZ6m4lWwL2cQ7g0wOiTIx5aDtOmFlh58Dx2+W4jn8Ugo4cxy+ncHjBHWwbYrRceI7p1Gqz8Zzkrc2Ird5uRqIU8mvjLXW/fzzz88yw5/Cs81Te5dS5e1KGaWt0pGojEfP8qF8Hm3ysdrCyFbfZOBmB9fOeoWx+pXeKofKl+SzcpT0zuZpeR+jO8aj0ksYtNrFmE2q3hJ2PfoTOfx8FWkM5zHeKD+H7qpery2U5uFVSmttu+3o08CwxPdY++TporMbcct5ZwuLg++sTrWGtR0+FeMgOYBVMh6W2RgUaHTCDITTiZzUzmf9JUGggbD2EFwpr41nf36qw6cc9/o5XW+D6maPdJXAqgGHzBTyBlR8/lQ+z4DzvPz2ePbyeXGqq5dB1OjZ+pWvJiN7rFyTooNn755OqlcYq1/pHi6WB+XL5SjF27L2fZ02tHTy9xrdMR6VXsJAdtHbJlVvjqlk69GfQJvBPYOiVQL3oKf0J711V5h4baE0D69SmtpuqX1aie9V2oq8orMbcct5p81Y1q/t+4/h08XhUwmzdf5KASY5Mc9sni0A7lJ7jVAqTzxLvMcdd9zkk4osg3CVwTNQ9rC8LwHqC2yc8LeBuvNrdjY9f2cgwyDIfks9b8C8jH4rX27Aq/IserWn6vLaQmneiFJpOY+K9+hZPpQvL2/zMBPUFwiZ4fcMY/UrvVUOlc/lm6MNwaWFbolH4az0GgY9bTKvN8dO6Tx79CcchsIxTw1sW9Jvef1JTqO37tbaQmmr2Cn8LqFPy3HTb8lU0wHlrT1Fx9NhpS0VN/FneWeAus7kp5vDZ28VB1f6ShxM8/EKlmk56TrWkIykOf1vA8u7zPK5TjIWME7OFzCKzw1U12fYx8oD/MNjfiYBB07dUw6NMZBgZs9BQEZlCl4DKs0+lc9i1MKzpVl619Km3W5RXpbvwI48eeDwDthy2tcG8W6V1KbrXfmsjEqzT1aC4MHjz+Zb9X2sfqW3yqHyVr652rCVrsejxVHpNQx62aRXr8XOpvPeoz8BN3SYLwhOCQwy0MW8PymV7am7ve0Unne6TyvhRrx0r6YDtfJK2824CYPc/tArboO0hG4On8oxHJyi9l1zhnCw3E3nUEvpsII9cJTvpUOPE746tZgDofqgTR3MDr0rQDhzVhs4MGgdO+cKuGvPQMELjNqpm9mmNyqkDAMfBjQcsMi3OEoNmNelfFbZW3nOaee/cdgMxPL9cQYtrMTQueV4UAYZvdmReC+1jepXPiuj0uyTO/d80KR3GKtf6a1yqLyVb642bKXr8WhxVvoYBj1s0qvXYmfT9d6jP9ESPc48/3qe6oEPJhnMrBjwYxP0U2Ohp+72tlPxvpN9mnjwntK9MR3wytq43YybMMjtT9+PKH0R1sqfv3d1+MxmTznllGoHzUwNpyrHyR4Ss0WWvjEmBgw4IL6oVgr8gxmW9hk84Ki4SwoNaOGMoc35AJY5BVquOOqkmIlTN+cL2B/BUdcOEdLJMFhgMEEnQFnVjWOkU+AjCR4N8ZI3YC6n8vXiOaef/9bhLrZkhAX4cXuCz4yCMziBM/u1tDHye7Nu8d4qo+UNGqwaeSsMNl/Lu/jMMRYtpbfKofI5/Va9E1+lZwvdEo+qQ+ljGJC/h03m9ebYKd0+e/QnbOPR52gFDxvgI2LoO98HQf+xBTpaDk5h42NhDt3taaeW/53s0ywf9l26N0UHbDnvfbfiJgw8+2MSlK8ge7LncV0dPsR1DxVHUQoMDPiIAJ9Q5fvVOGgcLTNGHK+usZXKE8/IDcNkH459emjwZNbONQYtpQs0T3FwJNztxqA5VMh37Kd81IXZL50BqwjwTd3IQSPQUZSCePEa0JZRvp48W/reO3WCPw6Wzo/BjFZq6FTBFSdPp8jApnSNUryvI6P448Ae9c4RxKeHMfUpvVUOlffot+rdGA6r0q3xuAoG4quHTdp6PexUl3326E/ocxjMWpumP6F/wdZ13off/EOdsTCX7tJmPew0538n+7ScF36P6aZXpha3G3ETBl4fpIPMpY9PlbCY7PBLBCI+EJgDAbZMGGDk/2BnjrqC5uYiQGc6VcfIx3L+2K2E0N3N1aelSx4Of+kttKH88c9MmE1FCATmRODKK68cVq28r4DaevnfGGwjTvnaWeiuRS7el4RAOPwltUbwMiDAgSi2DtgzjRAIzIkA2wZctWP5nnMQXuB8Aldy2eoqbWWpXOiukIjnEhEIh7/EVtlwnvhYkncDYMNhCfFnQoAlePbuuaLHqhJL9hzE5TwRZ3yILx3EzVkK3c0Rid9LQiAc/pJaI3gZDmxygLI02wqIAoG5EOA0tz1IzMl8DqjWDiBbXjj4F7prEYn3pSEQDn9pLRL8BAKBQCAQCAQCMyAQDn8GUINkIBAIBAKBQCCwNATC4S+tRYKfQCAQCAQCgUBgBgTC4c8AapAMBAKBQCAQCASWhkA4/KW1SPATCAQCgUAgEAjMgEA4/BlADZKBQCAQCAQCgcDSEPgfDW0+8/5LwnMAAAAASUVORK5CYII=)"
      ]
    },
    {
      "cell_type": "markdown",
      "metadata": {
        "id": "YEslxU4uu3Rv"
      },
      "source": [
        "![image.png](data:image/png;base64,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)\r\n",
        "\r\n",
        "This strategy is crazy in practise, because you're risking all your money by doubling your bets many many times - for an eventual win of a bet which you have started with. In this case its just a 1 dollar.\r\n",
        "\r\n",
        "1＄ → 2＄ → 4＄ → 8＄ → 16＄ → 32＄\r\n",
        "\r\n",
        "Sum of all bets in the example above is equal to 63.\r\n",
        "The eventual win with 32 dollar bet would give us 1 dollar profit."
      ]
    },
    {
      "cell_type": "markdown",
      "metadata": {
        "id": "FoeTYw8ObAb_"
      },
      "source": [
        "![image.png](data:image/png;base64,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)"
      ]
    },
    {
      "cell_type": "markdown",
      "metadata": {
        "id": "QjmecLs0Nc9v"
      },
      "source": [
        "Bets grow exponentially and that is the main problem for a player with a limited budget. \r\n"
      ]
    },
    {
      "cell_type": "code",
      "metadata": {
        "colab": {
          "base_uri": "https://localhost:8080/",
          "height": 295
        },
        "id": "dT_3SCpoDXOz",
        "outputId": "99bcd2c1-0788-408f-f234-a0f59796593d"
      },
      "source": [
        "y_pyplot = []\r\n",
        "for n in range(0,15,1):\r\n",
        "  y_pyplot.append(2**n)\r\n",
        "\r\n",
        "x_pyplot = np.arange(1,16)\r\n",
        "fig, ax = plt.subplots()\r\n",
        "ax.yaxis.set_ticks(np.arange(0, 1000000,2500))\r\n",
        "\r\n",
        "plt.plot(x_pyplot,y_pyplot)\r\n",
        "plt.title(\"How 1 dollar bet increases with increasing number of lost games\")\r\n",
        "plt.xlabel(\"number of lost games\")\r\n",
        "plt.ylabel(\"current bet value\")\r\n",
        "plt.show()"
      ],
      "execution_count": 597,
      "outputs": [
        {
          "output_type": "display_data",
          "data": {
            "image/png": "[encoded data removed]",
            "text/plain": [
              "<Figure size 432x288 with 1 Axes>"
            ]
          },
          "metadata": {
            "tags": [],
            "needs_background": "light"
          }
        }
      ]
    },
    {
      "cell_type": "markdown",
      "metadata": {
        "id": "YzSh9nKmgFX9"
      },
      "source": [
        "![image.png](data:image/png;base64,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)"
      ]
    },
    {
      "cell_type": "markdown",
      "metadata": {
        "id": "ITiUB5LrdAEn"
      },
      "source": [
        "A martingale betting system works fine only in theory. Using this strategy may very likely destroy deposit that you play with. People tend to underestimate odds that something with a low probability will happen.\r\n",
        "Chances that flipped coin will show the same side 6 or more times in a row is much more likely to happen, than many of us belive. If some action has any chance of occuring, then it will happen (in the long run obviously)."
      ]
    }
  ]
}